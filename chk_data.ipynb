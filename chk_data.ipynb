{
 "cells": [
  {
   "cell_type": "code",
   "execution_count": 5,
   "id": "746f85de-0d03-4dbb-9298-62555d40b6b4",
   "metadata": {},
   "outputs": [],
   "source": [
    "# Import dependencies\n",
    "import pandas as pd"
   ]
  },
  {
   "cell_type": "code",
   "execution_count": 22,
   "id": "028da291-ce0d-4065-972e-4401ba871fd3",
   "metadata": {},
   "outputs": [],
   "source": [
    "# Export categories_df and subcategories_df as CSV files.\n",
    "campaign_df = pd.read_csv(\"Resources/campaign.csv\")\n",
    "category_df = pd.read_csv(\"Resources/category.csv\")\n",
    "subcategory_df = pd.read_csv(\"Resources/subcategory.csv\")\n",
    "contacts_df = pd.read_csv(\"Resources/contacts.csv\")"
   ]
  },
  {
   "cell_type": "code",
   "execution_count": 23,
   "id": "b87858a3-9b66-4035-b228-3c0780f39d44",
   "metadata": {},
   "outputs": [
    {
     "data": {
      "text/plain": [
       "12"
      ]
     },
     "execution_count": 23,
     "metadata": {},
     "output_type": "execute_result"
    }
   ],
   "source": [
    "category_df.category.str.len().max()"
   ]
  },
  {
   "cell_type": "code",
   "execution_count": 29,
   "id": "821622f2-1f8c-413a-991c-cdf6950c54fa",
   "metadata": {},
   "outputs": [
    {
     "data": {
      "text/plain": [
       "17"
      ]
     },
     "execution_count": 29,
     "metadata": {},
     "output_type": "execute_result"
    }
   ],
   "source": [
    "subcategory_df.subcategory.str.len().max()"
   ]
  },
  {
   "cell_type": "code",
   "execution_count": 30,
   "id": "0aa51f14-0085-4a98-8d6f-701805b2721f",
   "metadata": {},
   "outputs": [
    {
     "data": {
      "text/plain": [
       "8"
      ]
     },
     "execution_count": 30,
     "metadata": {},
     "output_type": "execute_result"
    }
   ],
   "source": [
    "subcategory_df.subcategory_id.str.len().max()"
   ]
  },
  {
   "cell_type": "code",
   "execution_count": 31,
   "id": "b940cd5e-d89b-4ee8-b626-f010186e808a",
   "metadata": {},
   "outputs": [
    {
     "data": {
      "text/plain": [
       "12"
      ]
     },
     "execution_count": 31,
     "metadata": {},
     "output_type": "execute_result"
    }
   ],
   "source": [
    "contacts_df.first_name.str.len().max()"
   ]
  },
  {
   "cell_type": "code",
   "execution_count": 33,
   "id": "fe354854-db73-47ba-bd40-4437264157c2",
   "metadata": {},
   "outputs": [
    {
     "data": {
      "text/plain": [
       "13"
      ]
     },
     "execution_count": 33,
     "metadata": {},
     "output_type": "execute_result"
    }
   ],
   "source": [
    "contacts_df.last_name.str.len().max()"
   ]
  },
  {
   "cell_type": "code",
   "execution_count": 28,
   "id": "72617ddb-954a-4c39-a7aa-93cdceae1d1e",
   "metadata": {},
   "outputs": [
    {
     "data": {
      "text/plain": [
       "42"
      ]
     },
     "execution_count": 28,
     "metadata": {},
     "output_type": "execute_result"
    }
   ],
   "source": [
    "contacts_df.email.str.len().max()"
   ]
  },
  {
   "cell_type": "code",
   "execution_count": 45,
   "id": "267957e4-f5bb-46ae-a906-ae56de26db1d",
   "metadata": {},
   "outputs": [
    {
     "data": {
      "text/html": [
       "<div>\n",
       "<style scoped>\n",
       "    .dataframe tbody tr th:only-of-type {\n",
       "        vertical-align: middle;\n",
       "    }\n",
       "\n",
       "    .dataframe tbody tr th {\n",
       "        vertical-align: top;\n",
       "    }\n",
       "\n",
       "    .dataframe thead th {\n",
       "        text-align: right;\n",
       "    }\n",
       "</style>\n",
       "<table border=\"1\" class=\"dataframe\">\n",
       "  <thead>\n",
       "    <tr style=\"text-align: right;\">\n",
       "      <th></th>\n",
       "      <th>cf_id</th>\n",
       "      <th>contact_id</th>\n",
       "      <th>company_name</th>\n",
       "      <th>description</th>\n",
       "      <th>goal</th>\n",
       "      <th>pledged</th>\n",
       "      <th>outcome</th>\n",
       "      <th>backers_count</th>\n",
       "      <th>country</th>\n",
       "      <th>currency</th>\n",
       "      <th>launch_date</th>\n",
       "      <th>end_date</th>\n",
       "      <th>category</th>\n",
       "      <th>sub-category</th>\n",
       "      <th>category_id</th>\n",
       "      <th>subcategory_id</th>\n",
       "    </tr>\n",
       "  </thead>\n",
       "  <tbody>\n",
       "    <tr>\n",
       "      <th>999</th>\n",
       "      <td>1788</td>\n",
       "      <td>4939</td>\n",
       "      <td>Hernandez, Norton and Kelley</td>\n",
       "      <td>Expanded eco-centric policy</td>\n",
       "      <td>111100.0</td>\n",
       "      <td>62819.0</td>\n",
       "      <td>canceled</td>\n",
       "      <td>1122</td>\n",
       "      <td>US</td>\n",
       "      <td>USD</td>\n",
       "      <td>2020-12-30</td>\n",
       "      <td>2021-08-18</td>\n",
       "      <td>food</td>\n",
       "      <td>food trucks</td>\n",
       "      <td>cat1</td>\n",
       "      <td>subcat1</td>\n",
       "    </tr>\n",
       "  </tbody>\n",
       "</table>\n",
       "</div>"
      ],
      "text/plain": [
       "     cf_id  contact_id                  company_name  \\\n",
       "999   1788        4939  Hernandez, Norton and Kelley   \n",
       "\n",
       "                     description      goal  pledged   outcome  backers_count  \\\n",
       "999  Expanded eco-centric policy  111100.0  62819.0  canceled           1122   \n",
       "\n",
       "    country currency launch_date    end_date category sub-category  \\\n",
       "999      US      USD  2020-12-30  2021-08-18     food  food trucks   \n",
       "\n",
       "    category_id subcategory_id  \n",
       "999        cat1        subcat1  "
      ]
     },
     "execution_count": 45,
     "metadata": {},
     "output_type": "execute_result"
    }
   ],
   "source": [
    "campaign_df.tail(1)"
   ]
  },
  {
   "cell_type": "code",
   "execution_count": 35,
   "id": "77933b45-a6a7-428c-ad08-550f24952f5b",
   "metadata": {},
   "outputs": [
    {
     "data": {
      "text/plain": [
       "33"
      ]
     },
     "execution_count": 35,
     "metadata": {},
     "output_type": "execute_result"
    }
   ],
   "source": [
    "campaign_df.company_name.str.len().max()"
   ]
  },
  {
   "cell_type": "code",
   "execution_count": 36,
   "id": "36643df7-df4c-421d-92b4-ae80034448d2",
   "metadata": {},
   "outputs": [
    {
     "data": {
      "text/plain": [
       "53"
      ]
     },
     "execution_count": 36,
     "metadata": {},
     "output_type": "execute_result"
    }
   ],
   "source": [
    "campaign_df.description.str.len().max()"
   ]
  },
  {
   "cell_type": "code",
   "execution_count": 37,
   "id": "cd31128c-a59d-4a4d-9da2-b4724e0a9f9d",
   "metadata": {},
   "outputs": [
    {
     "data": {
      "text/plain": [
       "10"
      ]
     },
     "execution_count": 37,
     "metadata": {},
     "output_type": "execute_result"
    }
   ],
   "source": [
    "campaign_df.outcome.str.len().max()"
   ]
  },
  {
   "cell_type": "code",
   "execution_count": 38,
   "id": "67428a69-94a8-4e39-98fb-aadbfd43702d",
   "metadata": {},
   "outputs": [
    {
     "data": {
      "text/plain": [
       "2"
      ]
     },
     "execution_count": 38,
     "metadata": {},
     "output_type": "execute_result"
    }
   ],
   "source": [
    "campaign_df.country.str.len().max()"
   ]
  },
  {
   "cell_type": "code",
   "execution_count": 39,
   "id": "0316d7b5-284d-45c2-8ba9-0886c27a74e0",
   "metadata": {},
   "outputs": [
    {
     "data": {
      "text/plain": [
       "3"
      ]
     },
     "execution_count": 39,
     "metadata": {},
     "output_type": "execute_result"
    }
   ],
   "source": [
    "campaign_df.currency.str.len().max()"
   ]
  },
  {
   "cell_type": "code",
   "execution_count": 40,
   "id": "6823cbd9-150a-4b31-8bcf-9a185d026609",
   "metadata": {},
   "outputs": [
    {
     "data": {
      "text/plain": [
       "10"
      ]
     },
     "execution_count": 40,
     "metadata": {},
     "output_type": "execute_result"
    }
   ],
   "source": [
    "campaign_df.launch_date.str.len().max()"
   ]
  }
 ],
 "metadata": {
  "kernelspec": {
   "display_name": "Python 3 (ipykernel)",
   "language": "python",
   "name": "python3"
  },
  "language_info": {
   "codemirror_mode": {
    "name": "ipython",
    "version": 3
   },
   "file_extension": ".py",
   "mimetype": "text/x-python",
   "name": "python",
   "nbconvert_exporter": "python",
   "pygments_lexer": "ipython3",
   "version": "3.10.14"
  }
 },
 "nbformat": 4,
 "nbformat_minor": 5
}
